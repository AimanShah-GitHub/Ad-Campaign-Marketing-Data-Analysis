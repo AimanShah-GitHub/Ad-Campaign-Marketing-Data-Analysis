{
 "cells": [
  {
   "cell_type": "markdown",
   "id": "8540e792",
   "metadata": {},
   "source": [
    "### Importing Libraries\n",
    "We’ve been asked to analyze the online ad-click data collected by company owner. His advertising website has generated a dataset to monitors ad clicks across 30 different colors. Our aim is to discover an ad color that generates significantly more clicks than blue. He thinks that blue is a boring color and he wants to use other color. Fortunately, his advertising software allows him to choose from 30 different colors. Is there a text color that will bring more clicks than blue? Let's find out!"
   ]
  },
  {
   "cell_type": "code",
   "execution_count": 2,
   "id": "4b7fa3e7",
   "metadata": {},
   "outputs": [],
   "source": [
    " from scipy import stats"
   ]
  },
  {
   "cell_type": "code",
   "execution_count": 3,
   "id": "9593e12c",
   "metadata": {},
   "outputs": [],
   "source": [
    " import matplotlib.pyplot as plt"
   ]
  },
  {
   "cell_type": "code",
   "execution_count": 4,
   "id": "fa3584db",
   "metadata": {},
   "outputs": [],
   "source": [
    " import numpy as np"
   ]
  },
  {
   "cell_type": "code",
   "execution_count": 5,
   "id": "733aea69",
   "metadata": {},
   "outputs": [],
   "source": [
    " import pandas as pd"
   ]
  },
  {
   "cell_type": "code",
   "execution_count": 7,
   "id": "7964861d",
   "metadata": {},
   "outputs": [],
   "source": [
    " import seaborn as sns"
   ]
  },
  {
   "cell_type": "markdown",
   "id": "77063ff6",
   "metadata": {},
   "source": [
    "Loading the ad-click table into Pandas"
   ]
  },
  {
   "cell_type": "code",
   "execution_count": 53,
   "id": "523dedff",
   "metadata": {},
   "outputs": [],
   "source": [
    " df = pd.read_csv('Ad_data.csv')"
   ]
  },
  {
   "cell_type": "code",
   "execution_count": 54,
   "id": "2f5fef89",
   "metadata": {},
   "outputs": [],
   "source": [
    "num_rows, num_cols = df.shape"
   ]
  },
  {
   "cell_type": "code",
   "execution_count": 55,
   "id": "206c3f92",
   "metadata": {},
   "outputs": [
    {
     "name": "stdout",
     "output_type": "stream",
     "text": [
      "Table contains 30 rows and 41 columns\n"
     ]
    }
   ],
   "source": [
    "print(f\"Table contains {num_rows} rows and {num_cols} columns\")"
   ]
  },
  {
   "cell_type": "markdown",
   "id": "4c836676",
   "metadata": {},
   "source": [
    "### Performing EDA"
   ]
  },
  {
   "cell_type": "code",
   "execution_count": 56,
   "id": "f93bb6ef",
   "metadata": {},
   "outputs": [
    {
     "name": "stdout",
     "output_type": "stream",
     "text": [
      "Index(['Color', 'Click Count: Day 1', 'View Count: Day 1',\n",
      "       'Click Count: Day 2', 'View Count: Day 2', 'Click Count: Day 3',\n",
      "       'View Count: Day 3', 'Click Count: Day 4', 'View Count: Day 4',\n",
      "       'Click Count: Day 5', 'View Count: Day 5', 'Click Count: Day 6',\n",
      "       'View Count: Day 6', 'Click Count: Day 7', 'View Count: Day 7',\n",
      "       'Click Count: Day 8', 'View Count: Day 8', 'Click Count: Day 9',\n",
      "       'View Count: Day 9', 'Click Count: Day 10', 'View Count: Day 10',\n",
      "       'Click Count: Day 11', 'View Count: Day 11', 'Click Count: Day 12',\n",
      "       'View Count: Day 12', 'Click Count: Day 13', 'View Count: Day 13',\n",
      "       'Click Count: Day 14', 'View Count: Day 14', 'Click Count: Day 15',\n",
      "       'View Count: Day 15', 'Click Count: Day 16', 'View Count: Day 16',\n",
      "       'Click Count: Day 17', 'View Count: Day 17', 'Click Count: Day 18',\n",
      "       'View Count: Day 18', 'Click Count: Day 19', 'View Count: Day 19',\n",
      "       'Click Count: Day 20', 'View Count: Day 20'],\n",
      "      dtype='object')\n"
     ]
    }
   ],
   "source": [
    " print(df.columns)"
   ]
  },
  {
   "cell_type": "code",
   "execution_count": 57,
   "id": "f11f10c9",
   "metadata": {},
   "outputs": [
    {
     "name": "stdout",
     "output_type": "stream",
     "text": [
      "['Pink' 'Gray' 'Sapphire' 'Purple' 'Coral' 'Olive' 'Navy' 'Maroon' 'Teal'\n",
      " 'Cyan' 'Orange' 'Black' 'Tan' 'Red' 'Brown' 'Turquoise' 'Indigo' 'Gold'\n",
      " 'Jade' 'Blue' 'Ultramarine' 'Yellow' 'Viridian' 'Violet' 'Green'\n",
      " 'Aquamarine' 'Magenta' 'Silver' 'Bronze' 'Lime']\n"
     ]
    }
   ],
   "source": [
    " print(df.Color.values)"
   ]
  },
  {
   "cell_type": "code",
   "execution_count": 58,
   "id": "0bf33410",
   "metadata": {},
   "outputs": [],
   "source": [
    "#Checking for blue color and let's analyze whether it is true that blue color yeilds more clicks \n",
    "assert 'Blue' in df.Color.values"
   ]
  },
  {
   "cell_type": "code",
   "execution_count": 59,
   "id": "d01d3017",
   "metadata": {},
   "outputs": [
    {
     "name": "stdout",
     "output_type": "stream",
     "text": [
      "       Click Count: Day 1  View Count: Day 1\n",
      "count           30.000000               30.0\n",
      "mean            28.300000              100.0\n",
      "std              5.831839                0.0\n",
      "min             18.000000              100.0\n",
      "25%             25.250000              100.0\n",
      "50%             28.000000              100.0\n",
      "75%             31.000000              100.0\n",
      "max             49.000000              100.0\n"
     ]
    }
   ],
   "source": [
    "#Let's analyze first day's data for blue color specifically\n",
    "selected_columns = ['Color', 'Click Count: Day 1', 'View Count: Day 1']\n",
    "print(df[selected_columns].describe())"
   ]
  },
  {
   "cell_type": "code",
   "execution_count": 60,
   "id": "11ddb134",
   "metadata": {},
   "outputs": [
    {
     "name": "stdout",
     "output_type": "stream",
     "text": [
      "Index(['Color', 'Click Count: Day 1', 'Click Count: Day 2',\n",
      "       'Click Count: Day 3', 'Click Count: Day 4', 'Click Count: Day 5',\n",
      "       'Click Count: Day 6', 'Click Count: Day 7', 'Click Count: Day 8',\n",
      "       'Click Count: Day 9', 'Click Count: Day 10', 'Click Count: Day 11',\n",
      "       'Click Count: Day 12', 'Click Count: Day 13', 'Click Count: Day 14',\n",
      "       'Click Count: Day 15', 'Click Count: Day 16', 'Click Count: Day 17',\n",
      "       'Click Count: Day 18', 'Click Count: Day 19', 'Click Count: Day 20'],\n",
      "      dtype='object')\n"
     ]
    }
   ],
   "source": [
    "#After taking the closer look, we have redundant data of views because in every column the views are same i.e. 100 so we can drop this column for analysis\n",
    "view_columns = [column for column in df.columns if 'View' in column]\n",
    "assert np.all(df[view_columns].values == 100)\n",
    "df.drop(columns=view_columns, inplace=True)\n",
    "print(df.columns)"
   ]
  },
  {
   "cell_type": "code",
   "execution_count": 61,
   "id": "26a12b2b",
   "metadata": {},
   "outputs": [
    {
     "name": "stdout",
     "output_type": "stream",
     "text": [
      "count    20.000000\n",
      "mean     30.350000\n",
      "std       5.323978\n",
      "min      24.000000\n",
      "25%      27.500000\n",
      "50%      30.500000\n",
      "75%      32.000000\n",
      "max      49.000000\n",
      "Name: Blue, dtype: float64\n"
     ]
    }
   ],
   "source": [
    " df.set_index('Color', inplace=True)\n",
    " print(df.T.Blue.describe())"
   ]
  },
  {
   "cell_type": "code",
   "execution_count": 62,
   "id": "79156b5d",
   "metadata": {},
   "outputs": [
    {
     "name": "stdout",
     "output_type": "stream",
     "text": [
      "Color               Pink  Gray  Sapphire  Purple  Coral  Olive  Navy  Maroon  \\\n",
      "Click Count: Day 1    24    19        28      22     27     21    30      23   \n",
      "Click Count: Day 2    23    18        26      21     28     20    31      22   \n",
      "\n",
      "Color               Teal  Cyan  ...  Ultramarine  Yellow  Viridian  Violet  \\\n",
      "Click Count: Day 1    29    32  ...           35      28        31      33   \n",
      "Click Count: Day 2    30    34  ...           36      29        32      34   \n",
      "\n",
      "Color               Green  Aquamarine  Magenta  Silver  Bronze  Lime  \n",
      "Click Count: Day 1     30          34       32      29      27    26  \n",
      "Click Count: Day 2     31          35       33      30      28    27  \n",
      "\n",
      "[2 rows x 29 columns]\n"
     ]
    }
   ],
   "source": [
    "#Blue color yeilds aroun 30.35% clicks which is pretty good. Let's compare it with other 29 colors.We will create a temp dataframe and remove blue color from it.\n",
    "df_not_blue = df.T.drop(columns='Blue')\n",
    "print(df_not_blue.head(2))"
   ]
  },
  {
   "cell_type": "markdown",
   "id": "26d0705e",
   "metadata": {},
   "source": [
    "### Define a Permutation Function"
   ]
  },
  {
   "cell_type": "code",
   "execution_count": 63,
   "id": "d445cb90",
   "metadata": {},
   "outputs": [],
   "source": [
    " def permutation_test(data_array_a, data_array_b):\n",
    "    data_mean_a = data_array_a.mean()\n",
    "    data_mean_b = data_array_b.mean()\n",
    "    extreme_mean_diff = abs(data_mean_a - data_mean_b) \n",
    "    total_data = np.hstack([data_array_a, data_array_b])\n",
    "    number_extreme_values = 0.0\n",
    "    for _ in range(30000):\n",
    "         np.random.shuffle(total_data)\n",
    "         sample_a = total_data[:data_array_a.size]\n",
    "         sample_b = total_data[data_array_a.size:]\n",
    "         if abs(sample_a.mean() - sample_b.mean()) >= extreme_mean_diff: \n",
    "            number_extreme_values += 1\n",
    "            \n",
    "    p_value = number_extreme_values / 30000\n",
    "    return p_value"
   ]
  },
  {
   "cell_type": "markdown",
   "id": "28cf741f",
   "metadata": {},
   "source": [
    "### Running Permutation"
   ]
  },
  {
   "cell_type": "code",
   "execution_count": 64,
   "id": "b662e5ea",
   "metadata": {},
   "outputs": [],
   "source": [
    "np.random.seed(0)\n",
    "blue_clicks = df.T.Blue.values\n",
    "color_to_p_value = {}\n",
    "for color, color_clicks in df_not_blue.items():\n",
    "    p_value = permutation_test(blue_clicks, color_clicks)\n",
    "    color_to_p_value[color] = p_value\n",
    "\n",
    "sorted_colors, sorted_p_values = zip(*sorted(color_to_p_value.items(), key=lambda x: x[1]))"
   ]
  },
  {
   "cell_type": "markdown",
   "id": "fd7e699d",
   "metadata": {},
   "source": [
    "### Plot a Heatmap based on the P-Values Returned\n"
   ]
  },
  {
   "cell_type": "code",
   "execution_count": 65,
   "id": "4f09dbe9",
   "metadata": {},
   "outputs": [
    {
     "data": {
      "image/png": "[encoded data removed]",
      "text/plain": [
       "<Figure size 216x720 with 2 Axes>"
      ]
     },
     "metadata": {
      "needs_background": "light"
     },
     "output_type": "display_data"
    }
   ],
   "source": [
    "plt.figure(figsize=(3, 10)) \n",
    "sns.heatmap([[p_value] for p_value in sorted_p_values], \n",
    "    cmap='YlGnBu', annot=True, xticklabels=['p-value'],\n",
    "    yticklabels=sorted_colors)\n",
    "plt.show()"
   ]
  },
  {
   "cell_type": "code",
   "execution_count": 66,
   "id": "74a98ab2",
   "metadata": {},
   "outputs": [
    {
     "name": "stdout",
     "output_type": "stream",
     "text": [
      "Mean click-rate of black is 18.45\n"
     ]
    }
   ],
   "source": [
    "mean_black = df_not_blue.Black.mean()\n",
    "print(f\"Mean click-rate of black is {mean_black}\")"
   ]
  },
  {
   "cell_type": "code",
   "execution_count": 68,
   "id": "eb04ecb0",
   "metadata": {},
   "outputs": [
    {
     "name": "stdout",
     "output_type": "stream",
     "text": [
      "Mean click-rate of pink is 24.45\n"
     ]
    }
   ],
   "source": [
    "mean_pink = df_not_blue.Pink.mean()\n",
    "print(f\"Mean click-rate of pink is {mean_pink}\")"
   ]
  },
  {
   "cell_type": "code",
   "execution_count": 88,
   "id": "ca5b5e0d",
   "metadata": {},
   "outputs": [
    {
     "name": "stdout",
     "output_type": "stream",
     "text": [
      "10 colors have on average more clicks than Blue.\n",
      "These colors are:\n",
      "['Sapphire' 'Ultramarine' 'Aquamarine' 'Violet' 'Magenta' 'Gold' 'Cyan'\n",
      " 'Viridian' 'Turquoise' 'Green']\n"
     ]
    }
   ],
   "source": [
    "remaining_colors = df[df.T.mean().values > blue_clicks.mean()].index\n",
    "remaining_means = df.loc[remaining_colors].T.mean()  # Calculate mean click counts for remaining colors\n",
    "remaining_sorted = remaining_means.sort_values(ascending=False)  # Sort by mean click count\n",
    "size = remaining_sorted.size\n",
    "\n",
    "print(f\"{size} colors have on average more clicks than Blue.\")\n",
    "print(\"These colors are:\")\n",
    "print(remaining_sorted.index.values)\n"
   ]
  },
  {
   "cell_type": "code",
   "execution_count": 91,
   "id": "43e8f6ab",
   "metadata": {},
   "outputs": [
    {
     "name": "stdout",
     "output_type": "stream",
     "text": [
      "Ultramarine has a p-value of 6.666666666666667e-05 and a mean of 36.2\n",
      "Aquamarine has a p-value of 0.0002666666666666667 and a mean of 35.1\n",
      "Sapphire has a p-value of 0.0006333333333333333 and a mean of 38.55\n",
      "Violet has a p-value of 0.0031333333333333335 and a mean of 34.1\n",
      "Magenta has a p-value of 0.030766666666666668 and a mean of 33.1\n",
      "Gold has a p-value of 0.08003333333333333 and a mean of 32.6\n",
      "Cyan has a p-value of 0.09063333333333333 and a mean of 32.55\n",
      "Viridian has a p-value of 0.17803333333333332 and a mean of 32.2\n",
      "Turquoise has a p-value of 0.4461 and a mean of 31.45\n",
      "Green has a p-value of 0.6305666666666667 and a mean of 31.1\n"
     ]
    }
   ],
   "source": [
    "# If we look at the top 3 color choices based on the mean click we will observe that Sapphire and Ultramarine are both the shade of blue whereas Aquamarine has shades of blue and green both in it. This indicates that blue is still a choice of user for clicking on any link. Let's compare p-values of these colors and recommend a color to the client.\n",
    "for color, p_value in sorted(color_to_p_value.items(), key=lambda x: x[1]):\n",
    "    if color in remaining_sorted:\n",
    "        mean = df_not_blue[color].mean()\n",
    "        print(f\"{color} has a p-value of {p_value} and a mean of {mean}\")"
   ]
  },
  {
   "cell_type": "markdown",
   "id": "2926f679",
   "metadata": {},
   "source": [
    "### Summary & Recommendation\n",
    "Nine of the colors have large p-values. Only one color has a p-value that’s small. That color is ultramarine: a special shade of blue. Its mean of 36.2 is greater than blue’s mean of 30.35. Ultramarine’s p-value is approx 0.000067.\n",
    "\n",
    "Conclusion: Let’s consider our two alternative scenarios. In the first scenario, the null hypothesis is true. If that’s the case, then both blue and ultramarine share the same population mean. Under these circumstances,swapping ultramarine for blue will not affect the ad click rate. In the second scenario,the higher ultramarine click rate is actually statistically significant. If that’s the case,then swapping ultramarine for blue will yield more ad clicks. Therefore, client has everything to gain and nothing to lose by setting all his ads to ultramarine."
   ]
  }
 ],
 "metadata": {
  "kernelspec": {
   "display_name": "Python 3 (ipykernel)",
   "language": "python",
   "name": "python3"
  },
  "language_info": {
   "codemirror_mode": {
    "name": "ipython",
    "version": 3
   },
   "file_extension": ".py",
   "mimetype": "text/x-python",
   "name": "python",
   "nbconvert_exporter": "python",
   "pygments_lexer": "ipython3",
   "version": "3.9.12"
  }
 },
 "nbformat": 4,
 "nbformat_minor": 5
}
